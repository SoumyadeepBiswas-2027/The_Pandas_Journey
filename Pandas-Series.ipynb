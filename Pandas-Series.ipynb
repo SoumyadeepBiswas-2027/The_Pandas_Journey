{
 "cells": [
  {
   "cell_type": "markdown",
   "id": "26821cea-3f71-4f87-9bb8-c782ad5b7946",
   "metadata": {},
   "source": [
    "# Pandas Series\n",
    "A series is 1D labeled array capable of holding any data type. The axis labels are collectively called the index."
   ]
  },
  {
   "cell_type": "markdown",
   "id": "933703ce-9cc5-435b-ab19-1569308859ce",
   "metadata": {},
   "source": [
    "## Creating Series\n",
    "There are multiple ways to create a Pandas Series"
   ]
  },
  {
   "cell_type": "code",
   "execution_count": 4,
   "id": "bab18f5a-d215-4cf4-9675-68982ae4cdc3",
   "metadata": {},
   "outputs": [],
   "source": [
    "import numpy as np\n",
    "import pandas as pd"
   ]
  },
  {
   "cell_type": "code",
   "execution_count": 12,
   "id": "9ffa0b0c-9d82-4464-8662-8a357559238d",
   "metadata": {},
   "outputs": [],
   "source": [
    "labels = ['a', 'b', 'c']\n",
    "my_list = [1,5,9]\n",
    "arr = np.array([1,5,9])\n",
    "dictionery = {'a':1,'b':5,'c':9}"
   ]
  },
  {
   "cell_type": "code",
   "execution_count": 13,
   "id": "f4a4599f-280d-4ec7-82a7-113afa8776ed",
   "metadata": {},
   "outputs": [
    {
     "data": {
      "text/plain": [
       "0    1\n",
       "1    5\n",
       "2    9\n",
       "dtype: int64"
      ]
     },
     "execution_count": 13,
     "metadata": {},
     "output_type": "execute_result"
    }
   ],
   "source": [
    "pd.Series(my_list)"
   ]
  },
  {
   "cell_type": "markdown",
   "id": "6e621b51-8051-4df9-a18c-04163a320ffd",
   "metadata": {},
   "source": [
    "## We can also set Custom Labels as shown below"
   ]
  },
  {
   "cell_type": "code",
   "execution_count": 14,
   "id": "1766b67d-b2c9-4b82-a5ff-17ecb28755f1",
   "metadata": {},
   "outputs": [
    {
     "data": {
      "text/plain": [
       "a    1\n",
       "b    5\n",
       "c    9\n",
       "dtype: int64"
      ]
     },
     "execution_count": 14,
     "metadata": {},
     "output_type": "execute_result"
    }
   ],
   "source": [
    "pd.Series(my_list,index=labels)"
   ]
  },
  {
   "cell_type": "markdown",
   "id": "49577a54-f0d0-4dc3-b755-a7e3c088b8b8",
   "metadata": {},
   "source": [
    "## Creating Series through array"
   ]
  },
  {
   "cell_type": "code",
   "execution_count": 15,
   "id": "d44bdd97-b9f4-42c6-a749-91730e76af64",
   "metadata": {},
   "outputs": [
    {
     "data": {
      "text/plain": [
       "0    1\n",
       "1    5\n",
       "2    9\n",
       "dtype: int32"
      ]
     },
     "execution_count": 15,
     "metadata": {},
     "output_type": "execute_result"
    }
   ],
   "source": [
    "pd.Series(arr)"
   ]
  },
  {
   "cell_type": "markdown",
   "id": "01e927f2-2196-4326-9e02-99c9e6141511",
   "metadata": {},
   "source": [
    "## Creating Series through Dictionery"
   ]
  },
  {
   "cell_type": "code",
   "execution_count": 16,
   "id": "46a97e28-9da4-4157-b1b3-7e89901bf5a1",
   "metadata": {},
   "outputs": [
    {
     "data": {
      "text/plain": [
       "a    1\n",
       "b    5\n",
       "c    9\n",
       "dtype: int64"
      ]
     },
     "execution_count": 16,
     "metadata": {},
     "output_type": "execute_result"
    }
   ],
   "source": [
    "pd.Series(dictionery)"
   ]
  },
  {
   "cell_type": "code",
   "execution_count": null,
   "id": "69ba66c4-e32c-489c-906d-153852aa1b10",
   "metadata": {},
   "outputs": [],
   "source": []
  }
 ],
 "metadata": {
  "kernelspec": {
   "display_name": "Python 3 (ipykernel)",
   "language": "python",
   "name": "python3"
  },
  "language_info": {
   "codemirror_mode": {
    "name": "ipython",
    "version": 3
   },
   "file_extension": ".py",
   "mimetype": "text/x-python",
   "name": "python",
   "nbconvert_exporter": "python",
   "pygments_lexer": "ipython3",
   "version": "3.12.7"
  }
 },
 "nbformat": 4,
 "nbformat_minor": 5
}
